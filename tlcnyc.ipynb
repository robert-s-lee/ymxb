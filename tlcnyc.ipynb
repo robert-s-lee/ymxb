{
 "metadata": {
  "language_info": {
   "codemirror_mode": {
    "name": "ipython",
    "version": 3
   },
   "file_extension": ".py",
   "mimetype": "text/x-python",
   "name": "python",
   "nbconvert_exporter": "python",
   "pygments_lexer": "ipython3",
   "version": "3.7.10"
  },
  "orig_nbformat": 2,
  "kernelspec": {
   "name": "python3710jvsc74a57bd0de92b0a80cf4fb6c0174979e2ff2714f51a6443059df51bcc69d6a19a6293bab",
   "display_name": "Python 3.7.10 64-bit ('gridai': conda)"
  },
  "metadata": {
   "interpreter": {
    "hash": "bdc4f26ed665f22bc271c138ec1b6dbc4dd974f90487def18caf953998999e47"
   }
  }
 },
 "nbformat": 4,
 "nbformat_minor": 2,
 "cells": [
  {
   "cell_type": "code",
   "execution_count": 1,
   "metadata": {},
   "outputs": [
    {
     "output_type": "stream",
     "name": "stdout",
     "text": [
      "\u001b[34mApplications\u001b[m\u001b[m \u001b[34mUsers\u001b[m\u001b[m        \u001b[34mcores\u001b[m\u001b[m        \u001b[35mhome\u001b[m\u001b[m         \u001b[34msbin\u001b[m\u001b[m         \u001b[35mvar\u001b[m\u001b[m\n\u001b[34mLibrary\u001b[m\u001b[m      \u001b[34mVolumes\u001b[m\u001b[m      \u001b[34mdev\u001b[m\u001b[m          \u001b[34mopt\u001b[m\u001b[m          \u001b[35mtmp\u001b[m\u001b[m\n\u001b[34mSystem\u001b[m\u001b[m       \u001b[34mbin\u001b[m\u001b[m          \u001b[35metc\u001b[m\u001b[m          \u001b[34mprivate\u001b[m\u001b[m      \u001b[34musr\u001b[m\u001b[m\n"
     ]
    }
   ],
   "source": [
    "import pandas as pd \n",
    "! ls"
   ]
  },
  {
   "cell_type": "code",
   "execution_count": null,
   "metadata": {},
   "outputs": [],
   "source": []
  }
 ]
}